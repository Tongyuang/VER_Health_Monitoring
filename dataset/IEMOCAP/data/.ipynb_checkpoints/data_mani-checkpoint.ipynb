{
 "cells": [
  {
   "cell_type": "markdown",
   "metadata": {},
   "source": [
    "## 对IEMOCAP数据集进行预处理"
   ]
  },
  {
   "cell_type": "code",
   "execution_count": 1,
   "metadata": {
    "ExecuteTime": {
     "end_time": "2021-11-17T08:31:05.549152Z",
     "start_time": "2021-11-17T08:31:05.545184Z"
    }
   },
   "outputs": [],
   "source": [
    "def read_txt(txt_file_dir):\n",
    "    \n",
    "    with open(txt_file_dir,\"r\") as f:\n",
    "        ret = []\n",
    "        for line in f.readlines():\n",
    "            ret.append(line.strip('\\n'))\n",
    "    \n",
    "    return ret"
   ]
  },
  {
   "cell_type": "code",
   "execution_count": 10,
   "metadata": {
    "ExecuteTime": {
     "end_time": "2021-11-17T08:41:44.802316Z",
     "start_time": "2021-11-17T08:41:44.796859Z"
    }
   },
   "outputs": [],
   "source": [
    "def abbrev_for_emo(emo_in):\n",
    "    if emo_in in ['Frustration','frustration']:\n",
    "        return 'fru'\n",
    "    if emo_in in ['Neutral','neutral']:\n",
    "        return 'neu'\n",
    "    if emo_in in ['Anger','anger']:\n",
    "        return 'ang'\n",
    "    if emo_in in ['Other','other']:\n",
    "        return 'neu'\n",
    "    if emo_in in ['Sadness','sadness']:\n",
    "        return 'sad'\n",
    "    if emo_in in ['Excited','excited']:\n",
    "        return 'exc'\n",
    "    if emo_in in ['Happiness','happiness']:\n",
    "        return 'hap'\n",
    "    if emo_in in ['Surprise','surprise']:\n",
    "        return 'sup'\n",
    "    return emo_in"
   ]
  },
  {
   "cell_type": "code",
   "execution_count": 2,
   "metadata": {},
   "outputs": [
    {
     "name": "stdout",
     "output_type": "stream",
     "text": [
      "y type: <class 'numpy.ndarray'>, y shape: (2946458,), sr: 22050, duration: 133.62621315192743\n"
     ]
    }
   ],
   "source": [
    "import librosa\n",
    "\n",
    "try:\n",
    "    y,sr = librosa.load('../Ses01F_impro01.wav')\n",
    "    dur = librosa.get_duration(y,sr)\n",
    "    print('y type: {}, y shape: {}, sr: {}, duration: {}'.format(type(y),y.shape, sr,dur))\n",
    "except:\n",
    "    raise Exception(\"can not load from ../Ses01F_impro01.avi\")\n"
   ]
  },
  {
   "cell_type": "code",
   "execution_count": 13,
   "metadata": {},
   "outputs": [],
   "source": [
    "import soundfile as sf\n",
    "\n",
    "start_idx = int(6.2901*sr)\n",
    "end_idx = int(8.2357*sr)\n",
    "\n",
    "piece = y[start_idx:end_idx]\n",
    "output_pth = sf.write('../test.wav',piece,sr)"
   ]
  },
  {
   "cell_type": "code",
   "execution_count": 12,
   "metadata": {
    "ExecuteTime": {
     "end_time": "2021-11-17T08:42:13.984462Z",
     "start_time": "2021-11-17T08:42:13.977519Z"
    }
   },
   "outputs": [
    {
     "name": "stdout",
     "output_type": "stream",
     "text": [
      "name:Ses01F_impro02_F000,start time:7.2688,end time:6.6,label:sad\n",
      "name:Ses01F_impro02_F001,start time:19.85,end time:2.78,label:sad\n",
      "name:Ses01F_impro02_F002,start time:26.565,end time:2.2895,label:sad\n",
      "name:Ses01F_impro02_F003,start time:32.307,end time:7.96,label:neu\n",
      "name:Ses01F_impro02_F004,start time:47.34,end time:3.11,label:sad\n",
      "name:Ses01F_impro02_F005,start time:58.75,end time:1.31,label:sad\n",
      "name:Ses01F_impro02_F006,start time:64.255,end time:8.47,label:neu\n",
      "name:Ses01F_impro02_F007,start time:72.39,end time:8.57,label:sad\n",
      "name:Ses01F_impro02_F008,start time:87.203,end time:1.09,label:sad\n",
      "name:Ses01F_impro02_F009,start time:91.55,end time:5.88,label:sad\n",
      "name:Ses01F_impro02_F010,start time:97.94,end time:2.19,label:sad\n",
      "name:Ses01F_impro02_F011,start time:107.68,end time:1.0153,label:sad\n",
      "name:Ses01F_impro02_F012,start time:117.83,end time:0.8605,label:sad\n",
      "name:Ses01F_impro02_F013,start time:127.82,end time:3.9455,label:sad\n",
      "name:Ses01F_impro02_F014,start time:139.03,end time:6.43,label:sad\n",
      "name:Ses01F_impro02_F015,start time:151.42,end time:5.01,label:sad\n",
      "name:Ses01F_impro02_F016,start time:163.54,end time:5.73,label:neu\n",
      "name:Ses01F_impro02_F017,start time:169.36,end time:6.015,label:sad\n",
      "name:Ses01F_impro02_F018,start time:176.08,end time:9.13,label:neu\n",
      "name:Ses01F_impro02_F019,start time:182.83,end time:5.8894,label:sad\n",
      "name:Ses01F_impro02_F020,start time:186.58,end time:1.11,label:sad\n",
      "name:Ses01F_impro02_M000,start time:17.6,end time:0.6264,label:sad\n",
      "name:Ses01F_impro02_M001,start time:21.76,end time:7.5558,label:sad\n",
      "name:Ses01F_impro02_M002,start time:38.85,end time:5.09,label:fru\n",
      "name:Ses01F_impro02_M003,start time:52.71,end time:9.0534,label:fru\n",
      "name:Ses01F_impro02_M004,start time:61.75,end time:5.055,label:sad\n",
      "name:Ses01F_impro02_M005,start time:69.34,end time:4.29,label:sad\n",
      "name:Ses01F_impro02_M006,start time:80.03,end time:6.99,label:sad\n",
      "name:Ses01F_impro02_M007,start time:103.27,end time:7.1,label:ang\n",
      "name:Ses01F_impro02_M008,start time:110.56,end time:3.2,label:fru\n",
      "name:Ses01F_impro02_M009,start time:114.17,end time:7.85,label:sad\n",
      "name:Ses01F_impro02_M010,start time:120.41,end time:4.63,label:sad\n",
      "name:Ses01F_impro02_M011,start time:133.88,end time:7.1,label:sad\n",
      "name:Ses01F_impro02_M012,start time:147.03,end time:1.7101,label:neu\n",
      "name:Ses01F_impro02_M013,start time:157.98,end time:2.71,label:sad\n",
      "name:Ses01F_impro02_M014,start time:164.88,end time:9.5,label:sad\n",
      "name:Ses01F_impro02_M015,start time:175.47,end time:6.72,label:neu\n",
      "name:Ses01F_impro02_M016,start time:195.1,end time:9.52,label:fru\n"
     ]
    }
   ],
   "source": [
    "raw_lbl_dir = '../Ses01F_impro02.txt'\n",
    "lines = read_txt(raw_lbl_dir)\n",
    "for idx,line in enumerate(lines):\n",
    "    if line.startswith('['):\n",
    "        \n",
    "        aa = line.split('\\t')\n",
    "        start_time = float(aa[0][1:7])\n",
    "        end_time = float(aa[0][-7:-1])\n",
    "        name = aa[1]\n",
    "        lbl = aa[2]\n",
    "        if lbl == 'xxx':\n",
    "            \n",
    "            lbl = abbrev_for_emo(lines[idx+1].split('\\t')[1].split(';')[0])\n",
    "            \n",
    "        \n",
    "        print('name:{},start time:{},end time:{},label:{}'.format(name,start_time,end_time,lbl))"
   ]
  },
  {
   "cell_type": "code",
   "execution_count": 5,
   "metadata": {
    "ExecuteTime": {
     "end_time": "2021-11-17T08:32:06.829072Z",
     "start_time": "2021-11-17T08:32:06.825096Z"
    }
   },
   "outputs": [
    {
     "data": {
      "text/plain": [
       "'Neutral;'"
      ]
     },
     "execution_count": 5,
     "metadata": {},
     "output_type": "execute_result"
    }
   ],
   "source": [
    "lines[idx+1].split('\\t')[1]"
   ]
  },
  {
   "cell_type": "code",
   "execution_count": 11,
   "metadata": {
    "ExecuteTime": {
     "end_time": "2021-11-16T07:02:05.757236Z",
     "start_time": "2021-11-16T07:02:05.753299Z"
    }
   },
   "outputs": [
    {
     "name": "stdout",
     "output_type": "stream",
     "text": [
      "['[101.8400 - 107.8700]', 'Ses01F_impro01_M013', 'ang', '[2.0000, 4.5000, 4.5000]']\n",
      "101.84\n",
      "7.8700\n"
     ]
    }
   ],
   "source": [
    "print(aa)\n",
    "print(aa[0][1:7])\n",
    "print(aa[0][-7:-1])\n"
   ]
  },
  {
   "cell_type": "code",
   "execution_count": null,
   "metadata": {
    "ExecuteTime": {
     "end_time": "2021-11-16T07:02:54.366593Z",
     "start_time": "2021-11-16T07:02:54.361128Z"
    }
   },
   "outputs": [
    {
     "name": "stdout",
     "output_type": "stream",
     "text": [
      "6.2901\n"
     ]
    }
   ],
   "source": [
    "print(float(aa[0][1:7]))"
   ]
  },
  {
   "cell_type": "code",
   "execution_count": 12,
   "metadata": {},
   "outputs": [
    {
     "name": "stdout",
     "output_type": "stream",
     "text": [
      "y type: <class 'numpy.ndarray'>, y shape: (93912,), sr: 22050, duration: 4.259047619047619\n"
     ]
    }
   ],
   "source": [
    "\n",
    "mp3_dir = '../0027-custom-1.mp3'\n",
    "\n",
    "try:\n",
    "    y,sr = librosa.load(mp3_dir)\n",
    "    dur = librosa.get_duration(y,sr)\n",
    "    print('y type: {}, y shape: {}, sr: {}, duration: {}'.format(type(y),y.shape, sr,dur))    \n",
    "except:\n",
    "    raise Exception(\"can not load audio file from {}\".format(mp3_dir))"
   ]
  },
  {
   "cell_type": "code",
   "execution_count": 10,
   "metadata": {},
   "outputs": [],
   "source": [
    "import ffprobe"
   ]
  },
  {
   "cell_type": "code",
   "execution_count": 3,
   "metadata": {},
   "outputs": [],
   "source": [
    "from moviepy.editor import VideoFileClip\n",
    "\n",
    "mp4path = '../1637116668551214.mp4'\n",
    "video = VideoFileClip(mp4path)"
   ]
  },
  {
   "cell_type": "code",
   "execution_count": 5,
   "metadata": {},
   "outputs": [
    {
     "name": "stdout",
     "output_type": "stream",
     "text": [
      "MoviePy - Writing audio in ../1637116668551214.wav\n"
     ]
    },
    {
     "name": "stderr",
     "output_type": "stream",
     "text": [
      "                                                       "
     ]
    },
    {
     "name": "stdout",
     "output_type": "stream",
     "text": [
      "MoviePy - Done.\n"
     ]
    },
    {
     "name": "stderr",
     "output_type": "stream",
     "text": []
    }
   ],
   "source": [
    "audio = video.audio\n",
    "audio.write_audiofile('../1637116668551214.wav')"
   ]
  },
  {
   "cell_type": "code",
   "execution_count": 9,
   "metadata": {},
   "outputs": [
    {
     "name": "stdout",
     "output_type": "stream",
     "text": [
      "y type: <class 'numpy.ndarray'>, y shape: (95917,), sr: 22050, duration: 4.349977324263039\n"
     ]
    }
   ],
   "source": [
    "import librosa\n",
    "try:\n",
    "    y,sr = librosa.load('../1637116668551214.wav')\n",
    "    dur = librosa.get_duration(y,sr)\n",
    "    print('y type: {}, y shape: {}, sr: {}, duration: {}'.format(type(y),y.shape, sr,dur))\n",
    "except:\n",
    "    raise Exception(\"can not load from ../1637116668551214.avi\")"
   ]
  },
  {
   "cell_type": "code",
   "execution_count": null,
   "metadata": {},
   "outputs": [],
   "source": []
  }
 ],
 "metadata": {
  "interpreter": {
   "hash": "347f30923d257e90eff8c59dfe42450072020b669190303a778f5caab1f2ebf0"
  },
  "kernelspec": {
   "display_name": "Python 3",
   "language": "python",
   "name": "python3"
  },
  "language_info": {
   "codemirror_mode": {
    "name": "ipython",
    "version": 3
   },
   "file_extension": ".py",
   "mimetype": "text/x-python",
   "name": "python",
   "nbconvert_exporter": "python",
   "pygments_lexer": "ipython3",
   "version": "3.7.4"
  },
  "toc": {
   "base_numbering": 1,
   "nav_menu": {},
   "number_sections": true,
   "sideBar": true,
   "skip_h1_title": false,
   "title_cell": "Table of Contents",
   "title_sidebar": "Contents",
   "toc_cell": false,
   "toc_position": {},
   "toc_section_display": true,
   "toc_window_display": false
  },
  "varInspector": {
   "cols": {
    "lenName": 16,
    "lenType": 16,
    "lenVar": 40
   },
   "kernels_config": {
    "python": {
     "delete_cmd_postfix": "",
     "delete_cmd_prefix": "del ",
     "library": "var_list.py",
     "varRefreshCmd": "print(var_dic_list())"
    },
    "r": {
     "delete_cmd_postfix": ") ",
     "delete_cmd_prefix": "rm(",
     "library": "var_list.r",
     "varRefreshCmd": "cat(var_dic_list()) "
    }
   },
   "types_to_exclude": [
    "module",
    "function",
    "builtin_function_or_method",
    "instance",
    "_Feature"
   ],
   "window_display": false
  }
 },
 "nbformat": 4,
 "nbformat_minor": 2
}
