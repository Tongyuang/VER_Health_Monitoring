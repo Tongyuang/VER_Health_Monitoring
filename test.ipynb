{
 "cells": [
  {
   "cell_type": "code",
   "execution_count": 1,
   "metadata": {
    "ExecuteTime": {
     "end_time": "2021-11-11T13:48:48.064709Z",
     "start_time": "2021-11-11T13:48:47.073063Z"
    }
   },
   "outputs": [],
   "source": [
    "import h5py\n",
    "import numpy as np\n",
    "import pandas as pd\n",
    "import pickle\n",
    "import hashlib"
   ]
  },
  {
   "cell_type": "code",
   "execution_count": 2,
   "metadata": {
    "ExecuteTime": {
     "end_time": "2021-11-11T13:48:49.518589Z",
     "start_time": "2021-11-11T13:48:49.513630Z"
    }
   },
   "outputs": [],
   "source": [
    "def hash_value_check(filename,hash_value,encoding='sha1'):\n",
    "    # check if the file is complete\n",
    "    f = open(filename,'rb')\n",
    "    if not f:\n",
    "        print('cannot load file {}'.format(filename))\n",
    "        return None\n",
    "    a = f.read()\n",
    "    f.close()\n",
    "    m = hashlib.new(encoding)\n",
    "    m.update(a)\n",
    "    return m.hexdigest()==hash_value"
   ]
  },
  {
   "cell_type": "code",
   "execution_count": 3,
   "metadata": {
    "ExecuteTime": {
     "end_time": "2021-11-11T13:50:14.447432Z",
     "start_time": "2021-11-11T13:48:51.909307Z"
    }
   },
   "outputs": [],
   "source": [
    "filename = './dataset/cmu-mosai/aligned_50.pkl'\n",
    "RawData = pickle.load(open(filename,'rb'),encoding='utf-8')"
   ]
  },
  {
   "cell_type": "code",
   "execution_count": 5,
   "metadata": {
    "ExecuteTime": {
     "end_time": "2021-11-11T13:51:22.893825Z",
     "start_time": "2021-11-11T13:51:22.890354Z"
    }
   },
   "outputs": [],
   "source": [
    "train_set = RawData['train']              #可以查看所有的主键\n"
   ]
  },
  {
   "cell_type": "code",
   "execution_count": 14,
   "metadata": {
    "ExecuteTime": {
     "end_time": "2021-11-11T14:00:24.008478Z",
     "start_time": "2021-11-11T14:00:24.004989Z"
    }
   },
   "outputs": [
    {
     "data": {
      "text/plain": [
       "dict_keys(['raw_text', 'audio', 'vision', 'id', 'text', 'text_bert', 'annotations', 'classification_labels', 'regression_labels'])"
      ]
     },
     "execution_count": 14,
     "metadata": {},
     "output_type": "execute_result"
    }
   ],
   "source": [
    "train_set.keys()\n"
   ]
  },
  {
   "cell_type": "code",
   "execution_count": 20,
   "metadata": {
    "ExecuteTime": {
     "end_time": "2021-11-11T14:01:04.668057Z",
     "start_time": "2021-11-11T14:01:04.663560Z"
    }
   },
   "outputs": [
    {
     "data": {
      "text/plain": [
       "(16326, 50, 74)"
      ]
     },
     "execution_count": 20,
     "metadata": {},
     "output_type": "execute_result"
    }
   ],
   "source": [
    "train_set['audio'].shape"
   ]
  },
  {
   "cell_type": "code",
   "execution_count": 8,
   "metadata": {
    "ExecuteTime": {
     "end_time": "2021-11-11T13:52:44.394898Z",
     "start_time": "2021-11-11T13:52:41.600775Z"
    }
   },
   "outputs": [],
   "source": [
    "import librosa"
   ]
  },
  {
   "cell_type": "code",
   "execution_count": 12,
   "metadata": {
    "ExecuteTime": {
     "end_time": "2021-11-11T13:54:17.114865Z",
     "start_time": "2021-11-11T13:54:16.025649Z"
    }
   },
   "outputs": [],
   "source": [
    "audio_path = './test_audio_files/knuckle1.wav'\n",
    "\n",
    "y, sr = librosa.load(audio_path)\n",
    "# using librosa to get audio features (f0, mfcc, cqt)\n",
    "hop_length = 1024 # hop_length smaller, seq_len larger\n",
    "\n",
    "f0 = librosa.feature.zero_crossing_rate(y, hop_length=hop_length).T # (seq_len, 1)\n",
    "mfcc = librosa.feature.mfcc(y=y, sr=sr, hop_length=hop_length, htk=True).T # (seq_len, 20)\n",
    "cqt = librosa.feature.chroma_cqt(y=y, sr=sr, hop_length=hop_length).T # (seq_len, 12)\n",
    "features = np.concatenate([f0, mfcc, cqt], axis=-1)"
   ]
  },
  {
   "cell_type": "code",
   "execution_count": 13,
   "metadata": {
    "ExecuteTime": {
     "end_time": "2021-11-11T13:54:19.154808Z",
     "start_time": "2021-11-11T13:54:19.150827Z"
    }
   },
   "outputs": [
    {
     "data": {
      "text/plain": [
       "(464, 33)"
      ]
     },
     "execution_count": 13,
     "metadata": {},
     "output_type": "execute_result"
    }
   ],
   "source": [
    "features.shape"
   ]
  },
  {
   "cell_type": "code",
   "execution_count": 3,
   "metadata": {},
   "outputs": [
    {
     "ename": "NameError",
     "evalue": "name 'filename' is not defined",
     "output_type": "error",
     "traceback": [
      "\u001b[1;31m---------------------------------------------------------------------------\u001b[0m",
      "\u001b[1;31mNameError\u001b[0m                                 Traceback (most recent call last)",
      "\u001b[1;32m<ipython-input-3-10b9057c1147>\u001b[0m in \u001b[0;36m<module>\u001b[1;34m\u001b[0m\n\u001b[0;32m      1\u001b[0m \u001b[0mlabel_file_name\u001b[0m \u001b[1;33m=\u001b[0m \u001b[1;34m'./dataset/cmu-mosai/lbl/mosi2uni_Test_labels_disgust.csv'\u001b[0m\u001b[1;33m\u001b[0m\u001b[1;33m\u001b[0m\u001b[0m\n\u001b[1;32m----> 2\u001b[1;33m \u001b[0mRawData\u001b[0m \u001b[1;33m=\u001b[0m \u001b[0mpickle\u001b[0m\u001b[1;33m.\u001b[0m\u001b[0mload\u001b[0m\u001b[1;33m(\u001b[0m\u001b[0mopen\u001b[0m\u001b[1;33m(\u001b[0m\u001b[0mfilename\u001b[0m\u001b[1;33m,\u001b[0m\u001b[1;34m'rb'\u001b[0m\u001b[1;33m)\u001b[0m\u001b[1;33m,\u001b[0m\u001b[0mencoding\u001b[0m\u001b[1;33m=\u001b[0m\u001b[1;34m'utf-8'\u001b[0m\u001b[1;33m)\u001b[0m\u001b[1;33m\u001b[0m\u001b[1;33m\u001b[0m\u001b[0m\n\u001b[0m",
      "\u001b[1;31mNameError\u001b[0m: name 'filename' is not defined"
     ]
    }
   ],
   "source": [
    "label_file_name = './dataset/cmu-mosai/lbl/mosi2uni_Test_labels_disgust.csv'\n"
   ]
  },
  {
   "cell_type": "code",
   "execution_count": 20,
   "metadata": {},
   "outputs": [],
   "source": [
    "lbl_file = pd.read_csv(label_file_name)"
   ]
  },
  {
   "cell_type": "code",
   "execution_count": 31,
   "metadata": {},
   "outputs": [
    {
     "data": {
      "text/plain": [
       "1"
      ]
     },
     "execution_count": 31,
     "metadata": {},
     "output_type": "execute_result"
    }
   ],
   "source": [
    "max(np.asarray(lbl_file)[:,0])\n"
   ]
  },
  {
   "cell_type": "code",
   "execution_count": 40,
   "metadata": {},
   "outputs": [],
   "source": [
    "\n",
    "\n"
   ]
  },
  {
   "cell_type": "code",
   "execution_count": 54,
   "metadata": {},
   "outputs": [
    {
     "data": {
      "text/plain": [
       "dict_keys(['raw_text', 'audio', 'vision', 'id', 'text', 'text_bert', 'audio_lengths', 'vision_lengths', 'annotations', 'classification_labels', 'regression_labels'])"
      ]
     },
     "execution_count": 54,
     "metadata": {},
     "output_type": "execute_result"
    }
   ],
   "source": [
    "RawData['train'].keys()\n"
   ]
  },
  {
   "cell_type": "code",
   "execution_count": 67,
   "metadata": {},
   "outputs": [
    {
     "data": {
      "text/plain": [
       "(16326, 500, 74)"
      ]
     },
     "execution_count": 67,
     "metadata": {},
     "output_type": "execute_result"
    }
   ],
   "source": [
    "RawData['train']['audio'].shape"
   ]
  },
  {
   "cell_type": "code",
   "execution_count": 63,
   "metadata": {},
   "outputs": [
    {
     "data": {
      "text/plain": [
       "(16326, 500, 35)"
      ]
     },
     "execution_count": 63,
     "metadata": {},
     "output_type": "execute_result"
    }
   ],
   "source": [
    "RawData['train']['vision'].shape"
   ]
  },
  {
   "cell_type": "code",
   "execution_count": 70,
   "metadata": {},
   "outputs": [
    {
     "data": {
      "text/plain": [
       "(500, 74)"
      ]
     },
     "execution_count": 70,
     "metadata": {},
     "output_type": "execute_result"
    }
   ],
   "source": [
    "RawData['train']['audio'][0].shape"
   ]
  },
  {
   "cell_type": "code",
   "execution_count": 76,
   "metadata": {},
   "outputs": [
    {
     "data": {
      "text/plain": [
       "array([ 0.0194138 ,  0.04306198,  0.06969285, -0.01638243,  0.03559862,\n",
       "       -0.04905058,  0.0078854 ,  0.07389515,  0.03439008,  0.00857018,\n",
       "       -0.07165508, -0.01253974,  0.004185  , -0.08449147,  0.00542667,\n",
       "       -0.04030413, -0.08270951, -0.01411852, -0.02681193,  0.02380777,\n",
       "        0.1240017 ,  0.01947623,  0.12704195, -0.02166688,  0.04655686,\n",
       "        0.02728605,  0.0063084 ,  0.02783961,  0.05951589, -0.03242139,\n",
       "        0.01969324, -0.0421485 ,  0.06104551, -0.03065374,  0.01297375,\n",
       "        0.03623829,  0.05590893,  0.00892555, -0.118079  , -0.05836342,\n",
       "        0.03226037,  0.01517168, -0.15667911, -0.04714757, -0.00568312,\n",
       "       -0.04151601, -0.09757868,  0.03799587, -0.10409147, -0.0015489 ,\n",
       "       -0.02040245, -0.13506643,  0.01690259, -0.03383067,  0.06233811,\n",
       "        0.03178441, -0.01225162, -0.05129523, -0.07106245,  0.1016126 ,\n",
       "        0.08800083,  0.07700349, -0.04991349,  0.07473583, -0.10378429,\n",
       "       -0.0126188 , -0.06101622, -0.00154475, -0.16799778, -0.16369674,\n",
       "       -0.03673517,  0.06736009, -0.0252676 , -0.1034649 , -0.07848676,\n",
       "       -0.0031307 , -0.04572599,  0.05747701,  0.10606748,  0.06166562,\n",
       "        0.0010719 , -0.11310703, -0.01522394, -0.02632849, -0.05715277,\n",
       "        0.03079871, -0.0341337 ,  0.06128732, -0.0394289 ,  0.11787768,\n",
       "        0.00592489,  0.02953762, -0.00791443,  0.11863194, -0.01834398,\n",
       "        0.01764828,  0.00539565,  0.06876681, -0.05721855, -0.04863585,\n",
       "        0.01181789, -0.0157004 , -0.05575215,  0.00498085,  0.03089042,\n",
       "        0.00588688,  0.05173885, -0.08712438, -0.04140681,  0.07513877,\n",
       "       -0.03241791,  0.02043437, -0.08061723,  0.08426043,  0.01695324,\n",
       "        0.04449315,  0.01514281, -0.10320405,  0.10568681, -0.05837836,\n",
       "       -0.11139102, -0.01390229, -0.01007137, -0.01001397,  0.08117044,\n",
       "        0.07818133,  0.01734144,  0.00345984,  0.01794855,  0.04891596,\n",
       "        0.05182561,  0.05818613,  0.08440007,  0.04648691, -0.05974923,\n",
       "        0.05933527,  0.00530144, -0.02351962,  0.06093299, -0.06605785,\n",
       "       -0.00734771, -0.00390606, -0.03427356,  0.00843191, -0.02006022,\n",
       "        0.00393821,  0.0376359 ,  0.0751204 , -0.0935315 , -0.07453554,\n",
       "       -0.07842006, -0.02025285, -0.02118634, -0.03372406, -0.01238412,\n",
       "        0.02373722,  0.05781332, -0.02593486,  0.01439033, -0.06652123,\n",
       "        0.01101626,  0.04541935,  0.12180228,  0.01774147,  0.00930097,\n",
       "        0.04047507, -0.03906579,  0.04533245, -0.00921151,  0.04901132,\n",
       "       -0.0210021 ,  0.0048066 ,  0.0383968 ,  0.0382417 ,  0.02143845,\n",
       "        0.08852474,  0.04162825,  0.00432786, -0.11433138, -0.00804367,\n",
       "       -0.01661903,  0.08188924,  0.09002075,  0.10446992,  0.05890479,\n",
       "       -0.08219553,  0.00638551,  0.0191675 , -0.04994306,  0.12492402,\n",
       "       -0.02375965,  0.03422909, -0.056319  , -0.01104318, -0.12597711,\n",
       "       -0.07748545,  0.01251376,  0.02000127,  0.0279314 ,  0.01139576,\n",
       "       -0.04204385,  0.07725445,  0.11643051,  0.01717914,  0.05165847,\n",
       "       -0.02607351,  0.05341326, -0.0590249 ,  0.02353494, -0.02021711,\n",
       "        0.03547418, -0.02952541, -0.03605571, -0.01163514,  0.0724586 ,\n",
       "        0.06953431, -0.01520044,  0.04803858,  0.08362617,  0.15763712,\n",
       "        0.02782918,  0.00676548,  0.07200661,  0.00986845, -0.10518005,\n",
       "        0.08317853,  0.03929143, -0.01938838,  0.00267898,  0.01423138,\n",
       "        0.02349014, -0.06453161, -0.08372595, -0.01987524, -0.05242115,\n",
       "        0.05899223, -0.00840486, -0.10988425,  0.00396108,  0.08683684,\n",
       "        0.11809698, -0.02115849,  0.0772823 ,  0.07373235,  0.08296822,\n",
       "        0.01582188,  0.01650075,  0.07271506, -0.10342598,  0.0342386 ,\n",
       "       -0.06479222,  0.02677083, -0.12612328, -0.14808664, -0.08102555,\n",
       "       -0.18434913, -0.0200944 , -0.04467465,  0.06073303, -0.00081543,\n",
       "        0.10971363,  0.06274032,  0.02010062,  0.13360296,  0.15988119,\n",
       "       -0.01397794, -0.07730847,  0.05108339,  0.10521704,  0.10089005,\n",
       "        0.02964642, -0.00096564, -0.02621514, -0.13251965, -0.06114078,\n",
       "       -0.0114698 , -0.03321773,  0.06429277, -0.00208711, -0.04460023,\n",
       "       -0.00455207, -0.01484134, -0.06164087,  0.07036976,  0.09579241,\n",
       "        0.04088502,  0.00817655, -0.08497795,  0.02927102,  0.04788639,\n",
       "       -0.0843508 , -0.01466571, -0.01629793,  0.0218631 ,  0.01141332,\n",
       "        0.02059534, -0.04578461,  0.06412762, -0.07506872, -0.04108838,\n",
       "       -0.00029099, -0.08429464,  0.04351898,  0.00412524,  0.08683011,\n",
       "        0.07675895,  0.1164114 , -0.01615326, -0.0272009 ,  0.21470569,\n",
       "        0.03011263,  0.06919489,  0.01458391, -0.07855459,  0.04015508,\n",
       "       -0.07698576, -0.01664283, -0.03983255, -0.02547114,  0.0431654 ,\n",
       "       -0.03763781, -0.05194698,  0.09660522,  0.00963629,  0.04180936,\n",
       "        0.06527673, -0.00910333,  0.00169074,  0.03548562,  0.03450662,\n",
       "       -0.04705624, -0.04081703,  0.20536028,  0.05978854,  0.14543498,\n",
       "        0.04705932, -0.00629115, -0.02942937, -0.03577769,  0.09452957,\n",
       "        0.19686115,  0.08058093,  0.0034603 , -0.00881623,  0.07506816,\n",
       "       -0.03845057,  0.03223928,  0.04714509,  0.03900646,  0.0969699 ,\n",
       "        0.00972839,  0.0217189 , -0.09456182,  0.06330927, -0.01890261,\n",
       "        0.03494702,  0.        ,  0.        ,  0.        ,  0.        ,\n",
       "        0.        ,  0.        ,  0.        ,  0.        ,  0.        ,\n",
       "        0.        ,  0.        ,  0.        ,  0.        ,  0.        ,\n",
       "        0.        ,  0.        ,  0.        ,  0.        ,  0.        ,\n",
       "        0.        ,  0.        ,  0.        ,  0.        ,  0.        ,\n",
       "        0.        ,  0.        ,  0.        ,  0.        ,  0.        ,\n",
       "        0.        ,  0.        ,  0.        ,  0.        ,  0.        ,\n",
       "        0.        ,  0.        ,  0.        ,  0.        ,  0.        ,\n",
       "        0.        ,  0.        ,  0.        ,  0.        ,  0.        ,\n",
       "        0.        ,  0.        ,  0.        ,  0.        ,  0.        ,\n",
       "        0.        ,  0.        ,  0.        ,  0.        ,  0.        ,\n",
       "        0.        ,  0.        ,  0.        ,  0.        ,  0.        ,\n",
       "        0.        ,  0.        ,  0.        ,  0.        ,  0.        ,\n",
       "        0.        ,  0.        ,  0.        ,  0.        ,  0.        ,\n",
       "        0.        ,  0.        ,  0.        ,  0.        ,  0.        ,\n",
       "        0.        ,  0.        ,  0.        ,  0.        ,  0.        ,\n",
       "        0.        ,  0.        ,  0.        ,  0.        ,  0.        ,\n",
       "        0.        ,  0.        ,  0.        ,  0.        ,  0.        ,\n",
       "        0.        ,  0.        ,  0.        ,  0.        ,  0.        ,\n",
       "        0.        ,  0.        ,  0.        ,  0.        ,  0.        ,\n",
       "        0.        ,  0.        ,  0.        ,  0.        ,  0.        ,\n",
       "        0.        ,  0.        ,  0.        ,  0.        ,  0.        ,\n",
       "        0.        ,  0.        ,  0.        ,  0.        ,  0.        ,\n",
       "        0.        ,  0.        ,  0.        ,  0.        ,  0.        ,\n",
       "        0.        ,  0.        ,  0.        ,  0.        ,  0.        ,\n",
       "        0.        ,  0.        ,  0.        ,  0.        ,  0.        ,\n",
       "        0.        ,  0.        ,  0.        ,  0.        ,  0.        ,\n",
       "        0.        ,  0.        ,  0.        ,  0.        ,  0.        ,\n",
       "        0.        ,  0.        ,  0.        ,  0.        ,  0.        ])"
      ]
     },
     "execution_count": 76,
     "metadata": {},
     "output_type": "execute_result"
    }
   ],
   "source": [
    "RawData['train']['audio'][0][:,34]"
   ]
  },
  {
   "cell_type": "code",
   "execution_count": null,
   "metadata": {},
   "outputs": [],
   "source": []
  }
 ],
 "metadata": {
  "kernelspec": {
   "display_name": "Python 3",
   "language": "python",
   "name": "python3"
  },
  "language_info": {
   "codemirror_mode": {
    "name": "ipython",
    "version": 3
   },
   "file_extension": ".py",
   "mimetype": "text/x-python",
   "name": "python",
   "nbconvert_exporter": "python",
   "pygments_lexer": "ipython3",
   "version": "3.7.4"
  },
  "toc": {
   "base_numbering": 1,
   "nav_menu": {},
   "number_sections": true,
   "sideBar": true,
   "skip_h1_title": false,
   "title_cell": "Table of Contents",
   "title_sidebar": "Contents",
   "toc_cell": false,
   "toc_position": {},
   "toc_section_display": true,
   "toc_window_display": false
  },
  "varInspector": {
   "cols": {
    "lenName": 16,
    "lenType": 16,
    "lenVar": 40
   },
   "kernels_config": {
    "python": {
     "delete_cmd_postfix": "",
     "delete_cmd_prefix": "del ",
     "library": "var_list.py",
     "varRefreshCmd": "print(var_dic_list())"
    },
    "r": {
     "delete_cmd_postfix": ") ",
     "delete_cmd_prefix": "rm(",
     "library": "var_list.r",
     "varRefreshCmd": "cat(var_dic_list()) "
    }
   },
   "types_to_exclude": [
    "module",
    "function",
    "builtin_function_or_method",
    "instance",
    "_Feature"
   ],
   "window_display": false
  }
 },
 "nbformat": 4,
 "nbformat_minor": 5
}
